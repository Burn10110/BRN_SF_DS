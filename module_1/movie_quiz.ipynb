{
 "cells": [
  {
   "cell_type": "code",
   "execution_count": 1,
   "metadata": {
    "_cell_guid": "b1076dfc-b9ad-4769-8c92-a6c4dae69d19",
    "_uuid": "8f2839f25d086af736a60e9eeb907d3b93b6e0e5",
    "colab": {},
    "colab_type": "code",
    "id": "U2D2gTdJVp90"
   },
   "outputs": [],
   "source": [
    "import numpy as np\n",
    "import pandas as pd\n",
    "import seaborn as sns\n",
    "import matplotlib.pyplot as plt\n",
    "from itertools import combinations\n",
    "from collections import Counter"
   ]
  },
  {
   "cell_type": "code",
   "execution_count": 2,
   "metadata": {
    "_cell_guid": "79c7e3d0-c299-4dcb-8224-4455121ee9b0",
    "_uuid": "d629ff2d2480ee46fbb7e2d37f6b5fab8052498a",
    "colab": {},
    "colab_type": "code",
    "id": "oyGfxL3eVp9-"
   },
   "outputs": [
    {
     "data": {
      "text/html": [
       "<div>\n",
       "<style scoped>\n",
       "    .dataframe tbody tr th:only-of-type {\n",
       "        vertical-align: middle;\n",
       "    }\n",
       "\n",
       "    .dataframe tbody tr th {\n",
       "        vertical-align: top;\n",
       "    }\n",
       "\n",
       "    .dataframe thead th {\n",
       "        text-align: right;\n",
       "    }\n",
       "</style>\n",
       "<table border=\"1\" class=\"dataframe\">\n",
       "  <thead>\n",
       "    <tr style=\"text-align: right;\">\n",
       "      <th></th>\n",
       "      <th>imdb_id</th>\n",
       "      <th>budget</th>\n",
       "      <th>revenue</th>\n",
       "      <th>original_title</th>\n",
       "      <th>cast</th>\n",
       "      <th>director</th>\n",
       "      <th>tagline</th>\n",
       "      <th>overview</th>\n",
       "      <th>runtime</th>\n",
       "      <th>genres</th>\n",
       "      <th>production_companies</th>\n",
       "      <th>release_date</th>\n",
       "      <th>vote_average</th>\n",
       "      <th>release_year</th>\n",
       "    </tr>\n",
       "  </thead>\n",
       "  <tbody>\n",
       "    <tr>\n",
       "      <th>1026</th>\n",
       "      <td>tt1645170</td>\n",
       "      <td>65000000</td>\n",
       "      <td>179379533</td>\n",
       "      <td>The Dictator</td>\n",
       "      <td>Sacha Baron Cohen|Sayed Badreya|Aasif Mandvi|M...</td>\n",
       "      <td>Larry Charles</td>\n",
       "      <td>kurd</td>\n",
       "      <td>The heroic story of a dictator who risks his l...</td>\n",
       "      <td>83</td>\n",
       "      <td>Comedy</td>\n",
       "      <td>Paramount Pictures</td>\n",
       "      <td>5/15/2012</td>\n",
       "      <td>5.9</td>\n",
       "      <td>2012</td>\n",
       "    </tr>\n",
       "    <tr>\n",
       "      <th>887</th>\n",
       "      <td>tt0280590</td>\n",
       "      <td>50000000</td>\n",
       "      <td>171269535</td>\n",
       "      <td>Mr. Deeds</td>\n",
       "      <td>Adam Sandler|Winona Ryder|John Turturro|Allen ...</td>\n",
       "      <td>Steven Brill</td>\n",
       "      <td>Small town kid, big time right hook.</td>\n",
       "      <td>When Longfellow Deeds, a small-town pizzeria o...</td>\n",
       "      <td>96</td>\n",
       "      <td>Comedy|Romance</td>\n",
       "      <td>New Line Cinema|Columbia Pictures Corporation|...</td>\n",
       "      <td>6/28/2002</td>\n",
       "      <td>5.7</td>\n",
       "      <td>2002</td>\n",
       "    </tr>\n",
       "    <tr>\n",
       "      <th>762</th>\n",
       "      <td>tt0970179</td>\n",
       "      <td>170000000</td>\n",
       "      <td>185770160</td>\n",
       "      <td>Hugo</td>\n",
       "      <td>Asa Butterfield|ChloÃ« Grace Moretz|Ben Kingsl...</td>\n",
       "      <td>Martin Scorsese</td>\n",
       "      <td>One of the most legendary directors of our tim...</td>\n",
       "      <td>Hugo is an orphan boy living in the walls of a...</td>\n",
       "      <td>126</td>\n",
       "      <td>Adventure|Drama|Family</td>\n",
       "      <td>Paramount Pictures|Infinitum Nihil|GK Films</td>\n",
       "      <td>11/22/2011</td>\n",
       "      <td>6.8</td>\n",
       "      <td>2011</td>\n",
       "    </tr>\n",
       "    <tr>\n",
       "      <th>723</th>\n",
       "      <td>tt1298650</td>\n",
       "      <td>380000000</td>\n",
       "      <td>1021683000</td>\n",
       "      <td>Pirates of the Caribbean: On Stranger Tides</td>\n",
       "      <td>Johnny Depp|PenÃ©lope Cruz|Geoffrey Rush|Ian M...</td>\n",
       "      <td>Rob Marshall</td>\n",
       "      <td>Live Forever Or Die Trying.</td>\n",
       "      <td>Captain Jack Sparrow crosses paths with a woma...</td>\n",
       "      <td>136</td>\n",
       "      <td>Adventure|Action|Fantasy</td>\n",
       "      <td>Walt Disney Pictures|Jerry Bruckheimer Films|M...</td>\n",
       "      <td>5/11/2011</td>\n",
       "      <td>6.3</td>\n",
       "      <td>2011</td>\n",
       "    </tr>\n",
       "    <tr>\n",
       "      <th>1329</th>\n",
       "      <td>tt0405422</td>\n",
       "      <td>26000000</td>\n",
       "      <td>109449237</td>\n",
       "      <td>The 40 Year Old Virgin</td>\n",
       "      <td>Steve Carell|Catherine Keener|Paul Rudd|Romany...</td>\n",
       "      <td>Judd Apatow</td>\n",
       "      <td>The longer you wait, the harder it gets.</td>\n",
       "      <td>Andy Stitzer has a pleasant life with a nice a...</td>\n",
       "      <td>116</td>\n",
       "      <td>Comedy|Romance</td>\n",
       "      <td>Universal Pictures|Apatow Productions</td>\n",
       "      <td>8/11/2005</td>\n",
       "      <td>6.2</td>\n",
       "      <td>2005</td>\n",
       "    </tr>\n",
       "  </tbody>\n",
       "</table>\n",
       "</div>"
      ],
      "text/plain": [
       "        imdb_id     budget     revenue  \\\n",
       "1026  tt1645170   65000000   179379533   \n",
       "887   tt0280590   50000000   171269535   \n",
       "762   tt0970179  170000000   185770160   \n",
       "723   tt1298650  380000000  1021683000   \n",
       "1329  tt0405422   26000000   109449237   \n",
       "\n",
       "                                   original_title  \\\n",
       "1026                                 The Dictator   \n",
       "887                                     Mr. Deeds   \n",
       "762                                          Hugo   \n",
       "723   Pirates of the Caribbean: On Stranger Tides   \n",
       "1329                       The 40 Year Old Virgin   \n",
       "\n",
       "                                                   cast         director  \\\n",
       "1026  Sacha Baron Cohen|Sayed Badreya|Aasif Mandvi|M...    Larry Charles   \n",
       "887   Adam Sandler|Winona Ryder|John Turturro|Allen ...     Steven Brill   \n",
       "762   Asa Butterfield|ChloÃ« Grace Moretz|Ben Kingsl...  Martin Scorsese   \n",
       "723   Johnny Depp|PenÃ©lope Cruz|Geoffrey Rush|Ian M...     Rob Marshall   \n",
       "1329  Steve Carell|Catherine Keener|Paul Rudd|Romany...      Judd Apatow   \n",
       "\n",
       "                                                tagline  \\\n",
       "1026                                               kurd   \n",
       "887                Small town kid, big time right hook.   \n",
       "762   One of the most legendary directors of our tim...   \n",
       "723                         Live Forever Or Die Trying.   \n",
       "1329           The longer you wait, the harder it gets.   \n",
       "\n",
       "                                               overview  runtime  \\\n",
       "1026  The heroic story of a dictator who risks his l...       83   \n",
       "887   When Longfellow Deeds, a small-town pizzeria o...       96   \n",
       "762   Hugo is an orphan boy living in the walls of a...      126   \n",
       "723   Captain Jack Sparrow crosses paths with a woma...      136   \n",
       "1329  Andy Stitzer has a pleasant life with a nice a...      116   \n",
       "\n",
       "                        genres  \\\n",
       "1026                    Comedy   \n",
       "887             Comedy|Romance   \n",
       "762     Adventure|Drama|Family   \n",
       "723   Adventure|Action|Fantasy   \n",
       "1329            Comedy|Romance   \n",
       "\n",
       "                                   production_companies release_date  \\\n",
       "1026                                 Paramount Pictures    5/15/2012   \n",
       "887   New Line Cinema|Columbia Pictures Corporation|...    6/28/2002   \n",
       "762         Paramount Pictures|Infinitum Nihil|GK Films   11/22/2011   \n",
       "723   Walt Disney Pictures|Jerry Bruckheimer Films|M...    5/11/2011   \n",
       "1329              Universal Pictures|Apatow Productions    8/11/2005   \n",
       "\n",
       "      vote_average  release_year  \n",
       "1026           5.9          2012  \n",
       "887            5.7          2002  \n",
       "762            6.8          2011  \n",
       "723            6.3          2011  \n",
       "1329           6.2          2005  "
      ]
     },
     "metadata": {},
     "output_type": "display_data"
    }
   ],
   "source": [
    "mov = pd.read_csv('/movie_bd_v5.csv')\n",
    "display(mov.sample(5))"
   ]
  },
  {
   "cell_type": "code",
   "execution_count": 3,
   "metadata": {
    "colab": {},
    "colab_type": "code",
    "id": "CoYUnagMVp-C"
   },
   "outputs": [
    {
     "data": {
      "text/html": [
       "<div>\n",
       "<style scoped>\n",
       "    .dataframe tbody tr th:only-of-type {\n",
       "        vertical-align: middle;\n",
       "    }\n",
       "\n",
       "    .dataframe tbody tr th {\n",
       "        vertical-align: top;\n",
       "    }\n",
       "\n",
       "    .dataframe thead th {\n",
       "        text-align: right;\n",
       "    }\n",
       "</style>\n",
       "<table border=\"1\" class=\"dataframe\">\n",
       "  <thead>\n",
       "    <tr style=\"text-align: right;\">\n",
       "      <th></th>\n",
       "      <th>budget</th>\n",
       "      <th>revenue</th>\n",
       "      <th>runtime</th>\n",
       "      <th>vote_average</th>\n",
       "      <th>release_year</th>\n",
       "    </tr>\n",
       "  </thead>\n",
       "  <tbody>\n",
       "    <tr>\n",
       "      <th>count</th>\n",
       "      <td>1.889000e+03</td>\n",
       "      <td>1.889000e+03</td>\n",
       "      <td>1889.000000</td>\n",
       "      <td>1889.000000</td>\n",
       "      <td>1889.000000</td>\n",
       "    </tr>\n",
       "    <tr>\n",
       "      <th>mean</th>\n",
       "      <td>5.431083e+07</td>\n",
       "      <td>1.553653e+08</td>\n",
       "      <td>109.658549</td>\n",
       "      <td>6.140762</td>\n",
       "      <td>2007.860773</td>\n",
       "    </tr>\n",
       "    <tr>\n",
       "      <th>std</th>\n",
       "      <td>4.858721e+07</td>\n",
       "      <td>2.146698e+08</td>\n",
       "      <td>18.017041</td>\n",
       "      <td>0.764763</td>\n",
       "      <td>4.468841</td>\n",
       "    </tr>\n",
       "    <tr>\n",
       "      <th>min</th>\n",
       "      <td>5.000000e+06</td>\n",
       "      <td>2.033165e+06</td>\n",
       "      <td>63.000000</td>\n",
       "      <td>3.300000</td>\n",
       "      <td>2000.000000</td>\n",
       "    </tr>\n",
       "    <tr>\n",
       "      <th>25%</th>\n",
       "      <td>2.000000e+07</td>\n",
       "      <td>3.456058e+07</td>\n",
       "      <td>97.000000</td>\n",
       "      <td>5.600000</td>\n",
       "      <td>2004.000000</td>\n",
       "    </tr>\n",
       "    <tr>\n",
       "      <th>50%</th>\n",
       "      <td>3.800000e+07</td>\n",
       "      <td>8.361541e+07</td>\n",
       "      <td>107.000000</td>\n",
       "      <td>6.100000</td>\n",
       "      <td>2008.000000</td>\n",
       "    </tr>\n",
       "    <tr>\n",
       "      <th>75%</th>\n",
       "      <td>7.200000e+07</td>\n",
       "      <td>1.782626e+08</td>\n",
       "      <td>120.000000</td>\n",
       "      <td>6.600000</td>\n",
       "      <td>2012.000000</td>\n",
       "    </tr>\n",
       "    <tr>\n",
       "      <th>max</th>\n",
       "      <td>3.800000e+08</td>\n",
       "      <td>2.781506e+09</td>\n",
       "      <td>214.000000</td>\n",
       "      <td>8.100000</td>\n",
       "      <td>2015.000000</td>\n",
       "    </tr>\n",
       "  </tbody>\n",
       "</table>\n",
       "</div>"
      ],
      "text/plain": [
       "             budget       revenue      runtime  vote_average  release_year\n",
       "count  1.889000e+03  1.889000e+03  1889.000000   1889.000000   1889.000000\n",
       "mean   5.431083e+07  1.553653e+08   109.658549      6.140762   2007.860773\n",
       "std    4.858721e+07  2.146698e+08    18.017041      0.764763      4.468841\n",
       "min    5.000000e+06  2.033165e+06    63.000000      3.300000   2000.000000\n",
       "25%    2.000000e+07  3.456058e+07    97.000000      5.600000   2004.000000\n",
       "50%    3.800000e+07  8.361541e+07   107.000000      6.100000   2008.000000\n",
       "75%    7.200000e+07  1.782626e+08   120.000000      6.600000   2012.000000\n",
       "max    3.800000e+08  2.781506e+09   214.000000      8.100000   2015.000000"
      ]
     },
     "execution_count": 3,
     "metadata": {},
     "output_type": "execute_result"
    }
   ],
   "source": [
    "mov.describe()"
   ]
  },
  {
   "cell_type": "markdown",
   "metadata": {
    "colab_type": "text",
    "id": "DTIt7ezGVp-G"
   },
   "source": [
    "# Предобработка"
   ]
  },
  {
   "cell_type": "code",
   "execution_count": 4,
   "metadata": {
    "colab": {},
    "colab_type": "code",
    "id": "jNb40DwKVp-H"
   },
   "outputs": [],
   "source": [
    "answers = {} #словарь для ответов\n",
    "\n",
    "mov['profit'] = mov.revenue - mov.budget #добавляю столбец прибыли\n",
    "mov['release_date'] = pd.to_datetime(mov.release_date) #перевожу столбец даты релиза в datetime\n",
    "mov['ot_len'] = mov.original_title.str.len() #добавляю столбец длины названия в символах\n",
    "mov['ov_len'] = mov.overview.str.split().str.len() #добавляю столбец длины описания в словах\n",
    "\n",
    "mov_tmp_d = mov.copy() #создаю доп бд с разобранными режиссёрами\n",
    "mov_tmp_d['dirs'] = mov_tmp_d.director.str.split('|')\n",
    "dirs_cut = mov_tmp_d.explode('dirs')\n",
    "\n",
    "mov_tmp_a = mov.copy() #создаю доп бд с разобранными актёрами\n",
    "mov_tmp_a['acts'] = mov_tmp_a.cast.str.split('|')\n",
    "acts_cut = mov_tmp_a.explode('acts')\n",
    "\n",
    "mov_tmp_g = mov.copy() #создаю доп бд с разобранными жанрами\n",
    "mov_tmp_g['gens'] = mov_tmp_g.genres.str.split('|')\n",
    "gens_cut = mov_tmp_g.explode('gens')\n",
    "\n",
    "mov_tmp_p = mov.copy() #создаю доп бд с разобранными студиями\n",
    "mov_tmp_p['prods'] = mov_tmp_p.production_companies.str.split('|')\n",
    "prods_cut = mov_tmp_p.explode('prods')"
   ]
  },
  {
   "cell_type": "markdown",
   "metadata": {
    "colab_type": "text",
    "id": "YxZaH-nPVp-L"
   },
   "source": [
    "# 1. У какого фильма из списка самый большой бюджет?"
   ]
  },
  {
   "cell_type": "code",
   "execution_count": 5,
   "metadata": {
    "colab": {},
    "colab_type": "code",
    "id": "dZwb3m28Vp-S"
   },
   "outputs": [],
   "source": [
    "mov_bud = mov[mov.budget == mov.budget.max()]\n",
    "answers['1'] = '{} ({})'.format(mov_bud.original_title.item(), mov_bud.imdb_id.item())"
   ]
  },
  {
   "cell_type": "markdown",
   "metadata": {
    "colab_type": "text",
    "id": "FNRbbI3vVp-c"
   },
   "source": [
    "# 2. Какой из фильмов самый длительный (в минутах)?"
   ]
  },
  {
   "cell_type": "code",
   "execution_count": 6,
   "metadata": {
    "colab": {},
    "colab_type": "code",
    "id": "vHAoEXNTVp-d"
   },
   "outputs": [],
   "source": [
    "mov_run_max = mov[mov.runtime == mov.runtime.max()]\n",
    "answers['2'] = '{} ({})'.format(mov_run_max.original_title.item(), mov_run_max.imdb_id.item())"
   ]
  },
  {
   "cell_type": "markdown",
   "metadata": {
    "colab_type": "text",
    "id": "bapLlpW8Vp-k"
   },
   "source": [
    "# 3. Какой из фильмов самый короткий (в минутах)?\n",
    "\n",
    "\n",
    "\n"
   ]
  },
  {
   "cell_type": "code",
   "execution_count": 7,
   "metadata": {
    "colab": {},
    "colab_type": "code",
    "id": "YBxaSHuAVp-l"
   },
   "outputs": [],
   "source": [
    "mov_run_min = mov[mov.runtime == mov.runtime.min()]\n",
    "answers['3'] = '{} ({})'.format(mov_run_min.original_title.item(), mov_run_min.imdb_id.item())"
   ]
  },
  {
   "cell_type": "markdown",
   "metadata": {
    "colab_type": "text",
    "id": "TfQbxbfNVp-p"
   },
   "source": [
    "# 4. Какова средняя длительность фильмов?\n"
   ]
  },
  {
   "cell_type": "code",
   "execution_count": 8,
   "metadata": {
    "colab": {},
    "colab_type": "code",
    "id": "5K6dKZYVVp-q"
   },
   "outputs": [],
   "source": [
    "mov_run_mean = mov.runtime.mean()\n",
    "answers['4'] = round(mov_run_mean)"
   ]
  },
  {
   "cell_type": "markdown",
   "metadata": {
    "colab_type": "text",
    "id": "r5TvbnT_Vp-u"
   },
   "source": [
    "# 5. Каково медианное значение длительности фильмов? "
   ]
  },
  {
   "cell_type": "code",
   "execution_count": 9,
   "metadata": {
    "colab": {},
    "colab_type": "code",
    "id": "iBROplKnVp-v"
   },
   "outputs": [],
   "source": [
    "mov_run_med = mov.runtime.median()\n",
    "answers['5'] = round(mov_run_med)"
   ]
  },
  {
   "cell_type": "markdown",
   "metadata": {
    "colab_type": "text",
    "id": "39P-deDSVp-y"
   },
   "source": [
    "# 6. Какой самый прибыльный фильм?"
   ]
  },
  {
   "cell_type": "code",
   "execution_count": 10,
   "metadata": {
    "colab": {},
    "colab_type": "code",
    "id": "UYZh4T9WVp-y"
   },
   "outputs": [],
   "source": [
    "mov_pro_max = mov[mov.profit == mov.profit.max()]\n",
    "answers['6'] = '{} ({})'.format(mov_pro_max.original_title.item(), mov_pro_max.imdb_id.item())"
   ]
  },
  {
   "cell_type": "markdown",
   "metadata": {
    "colab_type": "text",
    "id": "M99JmIX4Vp-2"
   },
   "source": [
    "# 7. Какой фильм самый убыточный? "
   ]
  },
  {
   "cell_type": "code",
   "execution_count": 11,
   "metadata": {
    "colab": {},
    "colab_type": "code",
    "id": "w-D2m4XPVp-3"
   },
   "outputs": [],
   "source": [
    "mov_pro_min = mov[mov.profit == mov.profit.min()]\n",
    "answers['7'] = '{} ({})'.format(mov_pro_min.original_title.item(), mov_pro_min.imdb_id.item())"
   ]
  },
  {
   "cell_type": "markdown",
   "metadata": {
    "colab_type": "text",
    "id": "wEOM5ERVVp-6"
   },
   "source": [
    "# 8. У скольких фильмов из датасета объем сборов оказался выше бюджета?"
   ]
  },
  {
   "cell_type": "code",
   "execution_count": 12,
   "metadata": {
    "colab": {},
    "colab_type": "code",
    "id": "y00_7HD6Vp-7"
   },
   "outputs": [],
   "source": [
    "mov_pro_count = mov[mov.profit > 0]\n",
    "answers['8'] = len(mov_pro_count)"
   ]
  },
  {
   "cell_type": "markdown",
   "metadata": {
    "colab_type": "text",
    "id": "xhpspA9KVp_A"
   },
   "source": [
    "# 9. Какой фильм оказался самым кассовым в 2008 году?"
   ]
  },
  {
   "cell_type": "code",
   "execution_count": 13,
   "metadata": {
    "colab": {},
    "colab_type": "code",
    "id": "MoUyQr9RVp_B"
   },
   "outputs": [],
   "source": [
    "mov_promax_2008 = mov[mov.release_year == 2008]\n",
    "mov_promax_2008 = mov_promax_2008[mov_promax_2008.revenue == mov_promax_2008.revenue.max()]\n",
    "answers['9'] = '{} ({})'.format(mov_promax_2008.original_title.item(), mov_promax_2008.imdb_id.item())"
   ]
  },
  {
   "cell_type": "markdown",
   "metadata": {
    "colab_type": "text",
    "id": "Zi4hDKidVp_F"
   },
   "source": [
    "# 10. Самый убыточный фильм за период с 2012 по 2014 г. (включительно)?"
   ]
  },
  {
   "cell_type": "code",
   "execution_count": 14,
   "metadata": {
    "colab": {},
    "colab_type": "code",
    "id": "XqyRmufJVp_F"
   },
   "outputs": [],
   "source": [
    "mov_promin_1214 = mov[(mov.release_year >= 2012) & (mov.release_year <= 2014) & (mov.profit == mov.profit.min())]\n",
    "answers['10'] = '{} ({})'.format(mov_promin_1214.original_title.item(), mov_promin_1214.imdb_id.item())"
   ]
  },
  {
   "cell_type": "markdown",
   "metadata": {
    "colab_type": "text",
    "id": "EA7Sa9dkVp_I"
   },
   "source": [
    "# 11. Какого жанра фильмов больше всего?"
   ]
  },
  {
   "cell_type": "code",
   "execution_count": 15,
   "metadata": {
    "colab": {},
    "colab_type": "code",
    "id": "zsJAwJ8QVp_J"
   },
   "outputs": [],
   "source": [
    "mov_gen_most = Counter()\n",
    "for g in mov.genres.str.split('|'):\n",
    "    mov_gen_most += Counter(g)\n",
    "answers['11'] = mov_gen_most.most_common(1)[0][0]"
   ]
  },
  {
   "cell_type": "markdown",
   "metadata": {
    "colab_type": "text",
    "id": "T9_bPWpkVp_Q"
   },
   "source": [
    "# 12. Фильмы какого жанра чаще всего становятся прибыльными? "
   ]
  },
  {
   "cell_type": "code",
   "execution_count": 16,
   "metadata": {
    "colab": {},
    "colab_type": "code",
    "id": "Tmt8MaK1Vp_R"
   },
   "outputs": [],
   "source": [
    "mov_gen_promax = Counter()\n",
    "mov_tmp_g = mov_pro_count.genres.str.split('|', expand = False)\n",
    "for lists in mov_tmp_g:\n",
    "    for word in lists:\n",
    "        mov_gen_promax[word] += 1 \n",
    "answers['12'] = mov_gen_promax.most_common(1)[0][0]"
   ]
  },
  {
   "cell_type": "markdown",
   "metadata": {
    "colab_type": "text",
    "id": "0F23bgsDVp_U"
   },
   "source": [
    "# 13. У какого режиссера самые большие суммарные кассовые сборы?"
   ]
  },
  {
   "cell_type": "code",
   "execution_count": 17,
   "metadata": {
    "colab": {},
    "colab_type": "code",
    "id": "K6Z3J8ygVp_X"
   },
   "outputs": [],
   "source": [
    "mov_dir_revmax = dirs_cut.groupby(['dirs']).revenue.sum().sort_values(ascending = False).index[0]\n",
    "answers['13'] = mov_dir_revmax"
   ]
  },
  {
   "cell_type": "markdown",
   "metadata": {
    "colab_type": "text",
    "id": "PsYC9FgRVp_a"
   },
   "source": [
    "# 14. Какой режисер снял больше всего фильмов в стиле Action?"
   ]
  },
  {
   "cell_type": "code",
   "execution_count": 18,
   "metadata": {
    "colab": {},
    "colab_type": "code",
    "id": "wd2M-wHeVp_b"
   },
   "outputs": [],
   "source": [
    "mov_act = dirs_cut[dirs_cut.genres.str.contains('Action')]\n",
    "mov_dir_actmax = mov_act.dirs.value_counts().index[0]\n",
    "answers['14'] = mov_dir_actmax"
   ]
  },
  {
   "cell_type": "markdown",
   "metadata": {
    "colab_type": "text",
    "id": "PQ0KciD7Vp_f"
   },
   "source": [
    "# 15. Фильмы с каким актером принесли самые высокие кассовые сборы в 2012 году? "
   ]
  },
  {
   "cell_type": "code",
   "execution_count": 19,
   "metadata": {
    "colab": {},
    "colab_type": "code",
    "id": "aga62oeKVp_g"
   },
   "outputs": [],
   "source": [
    "mov_12 = acts_cut[acts_cut.release_year == 2012]\n",
    "mov_acts_revmax = mov_12.groupby(['acts']).revenue.sum().sort_values(ascending = False).index[0]\n",
    "answers['15'] = mov_acts_revmax"
   ]
  },
  {
   "cell_type": "markdown",
   "metadata": {
    "colab_type": "text",
    "id": "mWHyyL7QVp_j"
   },
   "source": [
    "# 16. Какой актер снялся в большем количестве высокобюджетных фильмов?"
   ]
  },
  {
   "cell_type": "code",
   "execution_count": 20,
   "metadata": {
    "colab": {},
    "colab_type": "code",
    "id": "qQtmHKTFVp_k"
   },
   "outputs": [],
   "source": [
    "mov_bud_meanpl = acts_cut[acts_cut.budget > acts_cut.budget.mean()]\n",
    "mov_acts_budpl = mov_bud_meanpl.acts.value_counts().sort_values(ascending = False).index[0]\n",
    "answers['16'] = mov_acts_budpl"
   ]
  },
  {
   "cell_type": "markdown",
   "metadata": {
    "colab_type": "text",
    "id": "NIh6AaW5Vp_n"
   },
   "source": [
    "# 17. В фильмах какого жанра больше всего снимался Nicolas Cage? "
   ]
  },
  {
   "cell_type": "code",
   "execution_count": 21,
   "metadata": {
    "colab": {},
    "colab_type": "code",
    "id": "H74SJDIBVp_n"
   },
   "outputs": [],
   "source": [
    "mov_cage = gens_cut[gens_cut.cast.str.contains('Nicolas Cage')]\n",
    "mov_cage_gens = mov_cage.gens.value_counts().sort_values(ascending = False).index[0]\n",
    "answers['17'] = mov_cage_gens"
   ]
  },
  {
   "cell_type": "markdown",
   "metadata": {
    "colab_type": "text",
    "id": "RqOmPRfWVp_q"
   },
   "source": [
    "# 18. Самый убыточный фильм от Paramount Pictures"
   ]
  },
  {
   "cell_type": "code",
   "execution_count": 22,
   "metadata": {
    "colab": {},
    "colab_type": "code",
    "id": "9E_B0Y96Vp_r"
   },
   "outputs": [],
   "source": [
    "mov_para = mov[mov.production_companies.str.contains('Paramount Pictures')]\n",
    "mov_para_promin = mov_para[mov_para.profit == mov_para.profit.min()]\n",
    "answers['18'] = '{} ({})'.format(mov_para_promin.original_title.item(), mov_para_promin.imdb_id.item())"
   ]
  },
  {
   "cell_type": "markdown",
   "metadata": {
    "colab_type": "text",
    "id": "vS8Ur6ddVp_u"
   },
   "source": [
    "# 19. Какой год стал самым успешным по суммарным кассовым сборам?"
   ]
  },
  {
   "cell_type": "code",
   "execution_count": 23,
   "metadata": {
    "colab": {},
    "colab_type": "code",
    "id": "Dnbt4GdIVp_v"
   },
   "outputs": [],
   "source": [
    "mov_year_revsum = mov.groupby(['release_year']).revenue.sum()\n",
    "mov_year_revmax = mov_year_revsum.sort_values(ascending = False).index[0]\n",
    "answers['19'] = mov_year_revmax"
   ]
  },
  {
   "cell_type": "markdown",
   "metadata": {
    "colab_type": "text",
    "id": "JAzJh4QAVp_z"
   },
   "source": [
    "# 20. Какой самый прибыльный год для студии Warner Bros?"
   ]
  },
  {
   "cell_type": "code",
   "execution_count": 24,
   "metadata": {
    "colab": {},
    "colab_type": "code",
    "id": "wgVu02DEVp_0"
   },
   "outputs": [],
   "source": [
    "mov_wb = mov[mov.production_companies.str.contains('Warner Bros')]\n",
    "mov_wb_revmax_y = mov_wb.groupby(['release_year']).revenue.sum().sort_values(ascending = False).index[0]\n",
    "answers['20'] = mov_wb_revmax_y"
   ]
  },
  {
   "cell_type": "markdown",
   "metadata": {
    "colab_type": "text",
    "id": "8Im1S2HRVp_4"
   },
   "source": [
    "# 21. В каком месяце за все годы суммарно вышло больше всего фильмов?"
   ]
  },
  {
   "cell_type": "code",
   "execution_count": 25,
   "metadata": {
    "colab": {},
    "colab_type": "code",
    "id": "lev6TH7gVp_4"
   },
   "outputs": [],
   "source": [
    "mov_mon_fmax = mov.release_date.dt.strftime('%B').value_counts().index[0]\n",
    "answers['21'] = mov_mon_fmax"
   ]
  },
  {
   "cell_type": "markdown",
   "metadata": {
    "colab_type": "text",
    "id": "uAJsZ_NeVp_7"
   },
   "source": [
    "# 22. Сколько суммарно вышло фильмов летом? (за июнь, июль, август)"
   ]
  },
  {
   "cell_type": "code",
   "execution_count": 26,
   "metadata": {
    "colab": {},
    "colab_type": "code",
    "id": "Aa-hEREoVp_8"
   },
   "outputs": [],
   "source": [
    "mov_sumr = 0\n",
    "for m in mov.release_date.dt.month:\n",
    "    if (m == 6) | (m == 7) | (m == 8):\n",
    "        mov_sumr += 1\n",
    "answers['22'] = mov_sumr"
   ]
  },
  {
   "cell_type": "markdown",
   "metadata": {
    "colab_type": "text",
    "id": "G94ppOY1VqAA"
   },
   "source": [
    "# 23. Для какого режиссера зима – самое продуктивное время года? "
   ]
  },
  {
   "cell_type": "code",
   "execution_count": 27,
   "metadata": {
    "colab": {},
    "colab_type": "code",
    "id": "RhNTsamuVqAB"
   },
   "outputs": [],
   "source": [
    "mov_dir_mon = dirs_cut[dirs_cut.release_date.dt.month.isin([1,2,12])]\n",
    "mov_dir_wint = mov_dir_mon.dirs.value_counts().index[0]\n",
    "answers['23'] = mov_dir_wint"
   ]
  },
  {
   "cell_type": "markdown",
   "metadata": {
    "colab_type": "text",
    "id": "RBo0JVjVVqAF"
   },
   "source": [
    "# 24. Какая студия дает самые длинные названия своим фильмам по количеству символов?"
   ]
  },
  {
   "cell_type": "code",
   "execution_count": 28,
   "metadata": {
    "colab": {},
    "colab_type": "code",
    "id": "QRGS8L0iVqAG"
   },
   "outputs": [],
   "source": [
    "mov_prod_olmax = prods_cut.groupby(['prods']).ot_len.mean().sort_values(ascending = False).index[0]\n",
    "answers['24'] = mov_prod_olmax"
   ]
  },
  {
   "cell_type": "markdown",
   "metadata": {
    "colab_type": "text",
    "id": "9G0hbvR7VqAK"
   },
   "source": [
    "# 25. Описание фильмов какой студии в среднем самые длинные по количеству слов?"
   ]
  },
  {
   "cell_type": "code",
   "execution_count": 29,
   "metadata": {
    "colab": {},
    "colab_type": "code",
    "id": "Ge2GsLNxVqAK"
   },
   "outputs": [],
   "source": [
    "mov_prod_ovmax = prods_cut.groupby(['prods']).ov_len.mean().sort_values(ascending = False).index[0]\n",
    "answers['25'] = mov_prod_ovmax"
   ]
  },
  {
   "cell_type": "markdown",
   "metadata": {
    "colab_type": "text",
    "id": "FJ1AFt90VqAP"
   },
   "source": [
    "# 26. Какие фильмы входят в 1 процент лучших по рейтингу? "
   ]
  },
  {
   "cell_type": "code",
   "execution_count": 30,
   "metadata": {
    "colab": {},
    "colab_type": "code",
    "id": "8qmJVq4CVqAQ"
   },
   "outputs": [],
   "source": [
    "mov_bv = mov.loc[mov.vote_average > mov.quantile(0.99, numeric_only=True)['vote_average']]['original_title'].reset_index()\n",
    "mov_best_vote = mov_bv['original_title'].tolist()\n",
    "answers['26'] = mov_best_vote"
   ]
  },
  {
   "cell_type": "markdown",
   "metadata": {
    "colab_type": "text",
    "id": "MdXsUXbCVqAV"
   },
   "source": [
    "# 27. Какие актеры чаще всего снимаются в одном фильме вместе?\n"
   ]
  },
  {
   "cell_type": "code",
   "execution_count": 31,
   "metadata": {
    "colab_type": "text",
    "id": "4ymnxEVoVqAW"
   },
   "outputs": [],
   "source": [
    "mov_acts_comb = []\n",
    "for cast in mov.cast.str.split('|'):\n",
    "    mov_acts_comb.extend(list(combinations(cast, 2)))\n",
    "mov_acts_pair = pd.Series(mov_acts_comb).value_counts().reset_index()\n",
    "mov_acts_pair.columns = ['pair', 'freq']\n",
    "mov_ap_top = list(mov_acts_pair[mov_acts_pair.freq == mov_acts_pair.freq.max()].pair)\n",
    "answers['27'] = mov_ap_top"
   ]
  },
  {
   "cell_type": "markdown",
   "metadata": {
    "colab_type": "text",
    "id": "U0nONFnGVqAX"
   },
   "source": [
    "# Submission"
   ]
  },
  {
   "cell_type": "code",
   "execution_count": 32,
   "metadata": {
    "colab": {},
    "colab_type": "code",
    "id": "IfcaRO9-VqAX",
    "outputId": "0f132912-32bb-4196-c98c-abfbc4ad5a5f"
   },
   "outputs": [
    {
     "data": {
      "text/plain": [
       "{'1': 'Pirates of the Caribbean: On Stranger Tides (tt1298650)',\n",
       " '2': 'Gods and Generals (tt0279111)',\n",
       " '3': 'Winnie the Pooh (tt1449283)',\n",
       " '4': 110,\n",
       " '5': 107,\n",
       " '6': 'Avatar (tt0499549)',\n",
       " '7': 'The Lone Ranger (tt1210819)',\n",
       " '8': 1478,\n",
       " '9': 'The Dark Knight (tt0468569)',\n",
       " '10': 'The Lone Ranger (tt1210819)',\n",
       " '11': 'Drama',\n",
       " '12': 'Drama',\n",
       " '13': 'Peter Jackson',\n",
       " '14': 'Robert Rodriguez',\n",
       " '15': 'Chris Hemsworth',\n",
       " '16': 'Matt Damon',\n",
       " '17': 'Action',\n",
       " '18': 'K-19: The Widowmaker (tt0267626)',\n",
       " '19': 2015,\n",
       " '20': 2014,\n",
       " '21': 'September',\n",
       " '22': 450,\n",
       " '23': 'Peter Jackson',\n",
       " '24': 'Four By Two Productions',\n",
       " '25': 'Midnight Picture Show',\n",
       " '26': ['Inside Out',\n",
       "  'Room',\n",
       "  'Interstellar',\n",
       "  'Guardians of the Galaxy',\n",
       "  'The Imitation Game',\n",
       "  'Gone Girl',\n",
       "  'The Grand Budapest Hotel',\n",
       "  'Inception',\n",
       "  'The Dark Knight',\n",
       "  'The Pianist',\n",
       "  'The Lord of the Rings: The Return of the King',\n",
       "  'The Wolf of Wall Street',\n",
       "  '12 Years a Slave',\n",
       "  'Memento'],\n",
       " '27': [('Daniel Radcliffe', 'Rupert Grint'),\n",
       "  ('Daniel Radcliffe', 'Emma Watson')]}"
      ]
     },
     "metadata": {},
     "output_type": "display_data"
    }
   ],
   "source": [
    "display(answers)"
   ]
  },
  {
   "cell_type": "code",
   "execution_count": 33,
   "metadata": {
    "colab": {},
    "colab_type": "code",
    "id": "SiRmHPl8VqAd"
   },
   "outputs": [
    {
     "data": {
      "text/plain": [
       "27"
      ]
     },
     "execution_count": 33,
     "metadata": {},
     "output_type": "execute_result"
    }
   ],
   "source": [
    "len(answers)"
   ]
  },
  {
   "cell_type": "code",
   "execution_count": null,
   "metadata": {
    "colab": {},
    "colab_type": "code",
    "id": "uCfuTkRbVqAg"
   },
   "outputs": [],
   "source": []
  },
  {
   "cell_type": "code",
   "execution_count": null,
   "metadata": {
    "colab": {},
    "colab_type": "code",
    "id": "Vwx3NrkSVqAl"
   },
   "outputs": [],
   "source": []
  }
 ],
 "metadata": {
  "colab": {
   "name": "Copy of [SF-DST] Movies IMBD v4.1 TEMPLATE.ipynb",
   "provenance": []
  },
  "kernelspec": {
   "display_name": "Python 3",
   "language": "python",
   "name": "python3"
  },
  "language_info": {
   "codemirror_mode": {
    "name": "ipython",
    "version": 3
   },
   "file_extension": ".py",
   "mimetype": "text/x-python",
   "name": "python",
   "nbconvert_exporter": "python",
   "pygments_lexer": "ipython3",
   "version": "3.8.3"
  }
 },
 "nbformat": 4,
 "nbformat_minor": 1
}
