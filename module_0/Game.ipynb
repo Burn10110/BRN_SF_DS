{
 "cells": [
  {
   "cell_type": "code",
   "execution_count": null,
   "metadata": {
    "scrolled": true
   },
   "outputs": [],
   "source": [
    "import numpy as np\n",
    "def game_core():\n",
    "    predict = np.random.randint(1,101) #загадываем число\n",
    "    compare = 100 #ищущее число, изначально равно нашему диапазону\n",
    "    interval = 100 #вспомогательное число стремящееся к нулю делением на 2, изначально равно ищущему\n",
    "    count = 0 #счётчик попыток\n",
    "    for i in range(1,101):\n",
    "        count += 1 #считаем попытку\n",
    "        if predict==compare:\n",
    "            return(count)\n",
    "            break #если нашли - отбой\n",
    "        elif predict<compare: #если искомое меньше\n",
    "            interval //= 2 #делим вспомогательное на два\n",
    "            compare -= interval #и отнимаем от ищущего числа\n",
    "            if interval<1: #исправляем ошибку округления на финальном шаге\n",
    "                compare -= 1\n",
    "        else: #если искомое больше\n",
    "            interval //= 2 #делим вспомогательное на два\n",
    "            compare += interval #и прибавляем к ищущему числу\n",
    "            if interval<1: #исправляем ошибку округления на финальном шаге\n",
    "                compare += 1\n",
    "\n",
    "game_core()"
   ]
  },
  {
   "cell_type": "code",
   "execution_count": null,
   "metadata": {},
   "outputs": [],
   "source": []
  }
 ],
 "metadata": {
  "kernelspec": {
   "display_name": "Python 3",
   "language": "python",
   "name": "python3"
  },
  "language_info": {
   "codemirror_mode": {
    "name": "ipython",
    "version": 3
   },
   "file_extension": ".py",
   "mimetype": "text/x-python",
   "name": "python",
   "nbconvert_exporter": "python",
   "pygments_lexer": "ipython3",
   "version": "3.8.3"
  }
 },
 "nbformat": 4,
 "nbformat_minor": 4
}
