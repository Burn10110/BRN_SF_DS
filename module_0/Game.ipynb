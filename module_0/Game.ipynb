{
 "cells": [
  {
   "cell_type": "code",
   "execution_count": null,
   "metadata": {
    "scrolled": true
   },
   "outputs": [],
   "source": [
    "import numpy as np\n",
    "limit = int(input('В каких пределах угадываем? От 1 до ')) #мне стало интересно, как будет меняться число попыток от верхнего предела выборки\n",
    "#limit = 100 #если нужно именно 100 в решении\n",
    "def game_core():\n",
    "    number = np.random.randint(1,limit+1) #загадываем число\n",
    "    compare = limit #ищущее число, изначально равно нашему диапазону\n",
    "    interval = limit #вспомогательное число стремящееся к нулю делением на 2, изначально равно ищущему\n",
    "    count = 0 #счётчик попыток\n",
    "    for i in range(1, limit+1):\n",
    "        count += 1 #считаем попытку\n",
    "        if number==compare:\n",
    "            return(count)\n",
    "            break #если нашли - отбой\n",
    "        elif number<compare: #если искомое меньше\n",
    "            interval //= 2 #делим вспомогательное на два\n",
    "            compare -= interval #и отнимаем от ищущего числа\n",
    "            if interval<1: #исправляем ошибку округления на финальном шаге\n",
    "                compare -= 1\n",
    "        else: #если искомое больше\n",
    "            interval //= 2 #делим вспомогательное на два\n",
    "            compare += interval #и прибавляем к ищущему числу\n",
    "            if interval<1: #исправляем ошибку округления на финальном шаге\n",
    "                compare += 1\n",
    "\n",
    "def score_game(game_core):\n",
    "    count_ls = [] #создаём пустой список\n",
    "    np.random.seed(1)  # фиксируем RANDOM SEED, чтобы эксперимент был воспроизводим!\n",
    "    random_array = np.random.randint(1, limit+1, size=(1000))\n",
    "    for number in random_array:\n",
    "        count_ls.append(game_core()) #добавляем к списку число попыток из game_core\n",
    "    score = int(np.mean(count_ls)) #берём среднее арифметическое по числу попыток\n",
    "    print(f\"Алгоритм угадывает число в среднем за {score} попыток\")\n",
    "    return(score)\n",
    "\n",
    "score_game(game_core)"
   ]
  }
 ],
 "metadata": {
  "kernelspec": {
   "display_name": "Python 3",
   "language": "python",
   "name": "python3"
  },
  "language_info": {
   "codemirror_mode": {
    "name": "ipython",
    "version": 3
   },
   "file_extension": ".py",
   "mimetype": "text/x-python",
   "name": "python",
   "nbconvert_exporter": "python",
   "pygments_lexer": "ipython3",
   "version": "3.8.3"
  }
 },
 "nbformat": 4,
 "nbformat_minor": 4
}
